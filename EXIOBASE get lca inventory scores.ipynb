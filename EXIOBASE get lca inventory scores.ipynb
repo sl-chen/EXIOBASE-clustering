{
 "cells": [
  {
   "cell_type": "code",
   "execution_count": 1,
   "metadata": {},
   "outputs": [],
   "source": [
    "import brightway2 as bw\n",
    "import pandas as pd\n",
    "import numpy as np\n",
    "import matplotlib.pyplot as plt"
   ]
  },
  {
   "cell_type": "code",
   "execution_count": 2,
   "metadata": {},
   "outputs": [],
   "source": [
    "# should import EXIOBASE database before\n",
    "# and also set biosphere, LCIA methods\n",
    "bw.projects.set_current(\"EXIOBASE regionalized case study\")"
   ]
  },
  {
   "cell_type": "code",
   "execution_count": 3,
   "metadata": {},
   "outputs": [
    {
     "data": {
      "text/plain": [
       "Databases dictionary with 2 object(s):\n",
       "\tEXIOBASE 3.3.17 hybrid\n",
       "\tbiosphere3"
      ]
     },
     "execution_count": 3,
     "metadata": {},
     "output_type": "execute_result"
    }
   ],
   "source": [
    "bw.databases"
   ]
  },
  {
   "cell_type": "code",
   "execution_count": 4,
   "metadata": {},
   "outputs": [
    {
     "data": {
      "text/plain": [
       "850"
      ]
     },
     "execution_count": 4,
     "metadata": {},
     "output_type": "execute_result"
    }
   ],
   "source": [
    "len(bw.methods)"
   ]
  },
  {
   "cell_type": "code",
   "execution_count": 5,
   "metadata": {},
   "outputs": [
    {
     "data": {
      "text/plain": [
       "7872"
      ]
     },
     "execution_count": 5,
     "metadata": {},
     "output_type": "execute_result"
    }
   ],
   "source": [
    "eidb = bw.Database('EXIOBASE 3.3.17 hybrid')\n",
    "len(eidb)"
   ]
  },
  {
   "cell_type": "code",
   "execution_count": 6,
   "metadata": {},
   "outputs": [
    {
     "data": {
      "text/plain": [
       "{'location': 'SI',\n",
       " 'name': 'Activities auxiliary to financial intermediation',\n",
       " 'code 1': 'i67',\n",
       " 'code 2': 'A_FAUX',\n",
       " 'type': 'process',\n",
       " 'format': 'Exiobase 3.3.17 hybrid mrio_common_metadata tidy datapackage',\n",
       " 'key': ('EXIOBASE 3.3.17 hybrid',\n",
       "  'SI-Activities auxiliary to financial intermediation (67)'),\n",
       " 'unit': 'Meuro',\n",
       " 'database': 'EXIOBASE 3.3.17 hybrid',\n",
       " 'code': 'SI-Activities auxiliary to financial intermediation (67)'}"
      ]
     },
     "execution_count": 6,
     "metadata": {},
     "output_type": "execute_result"
    }
   ],
   "source": [
    "random_act = eidb.random()\n",
    "random_act.as_dict()"
   ]
  },
  {
   "cell_type": "code",
   "execution_count": 7,
   "metadata": {},
   "outputs": [],
   "source": [
    "ipcc2013 = ('IPCC 2013', 'climate change', 'GWP 100a')"
   ]
  },
  {
   "cell_type": "code",
   "execution_count": 8,
   "metadata": {},
   "outputs": [
    {
     "data": {
      "text/plain": [
       "135415.07358406176"
      ]
     },
     "execution_count": 8,
     "metadata": {},
     "output_type": "execute_result"
    }
   ],
   "source": [
    "lca = bw.LCA({random_act:1}, ipcc2013)\n",
    "lca.lci()\n",
    "lca.lcia()\n",
    "lca.score"
   ]
  },
  {
   "cell_type": "code",
   "execution_count": 9,
   "metadata": {},
   "outputs": [
    {
     "data": {
      "text/plain": [
       "58"
      ]
     },
     "execution_count": 9,
     "metadata": {},
     "output_type": "execute_result"
    }
   ],
   "source": [
    "len(lca.biosphere_dict) # number of bio flows"
   ]
  },
  {
   "cell_type": "code",
   "execution_count": 10,
   "metadata": {},
   "outputs": [
    {
     "data": {
      "text/plain": [
       "(7872, 7872, 7872, 7872, 7872, 7872)"
      ]
     },
     "execution_count": 10,
     "metadata": {},
     "output_type": "execute_result"
    }
   ],
   "source": [
    "# get the information of all activities like name, location\n",
    "act_dict = {}\n",
    "act_id = [] # activity id is the number from the lca.activity_dict, to represent the activity\n",
    "act_name = []\n",
    "act_loc = []\n",
    "act_type = []\n",
    "act_unit = []\n",
    "act_code = []\n",
    "for obj in eidb:\n",
    "    act_id.append(lca.activity_dict[obj['key']])\n",
    "    act_name.append(obj['name'])\n",
    "    act_loc.append(obj['location'])\n",
    "    act_type.append(obj['type'])\n",
    "    act_unit.append(obj['unit'])\n",
    "    act_code.append(obj['code'])\n",
    "len(act_id),len(act_name),len(act_loc),len(act_type),len(act_unit),len(act_code) # check the number of each item"
   ]
  },
  {
   "cell_type": "code",
   "execution_count": 11,
   "metadata": {},
   "outputs": [
    {
     "data": {
      "text/html": [
       "<div>\n",
       "<style scoped>\n",
       "    .dataframe tbody tr th:only-of-type {\n",
       "        vertical-align: middle;\n",
       "    }\n",
       "\n",
       "    .dataframe tbody tr th {\n",
       "        vertical-align: top;\n",
       "    }\n",
       "\n",
       "    .dataframe thead th {\n",
       "        text-align: right;\n",
       "    }\n",
       "</style>\n",
       "<table border=\"1\" class=\"dataframe\">\n",
       "  <thead>\n",
       "    <tr style=\"text-align: right;\">\n",
       "      <th></th>\n",
       "      <th>activity</th>\n",
       "      <th>name</th>\n",
       "      <th>location</th>\n",
       "      <th>type</th>\n",
       "      <th>unit</th>\n",
       "      <th>code</th>\n",
       "    </tr>\n",
       "  </thead>\n",
       "  <tbody>\n",
       "    <tr>\n",
       "      <th>0</th>\n",
       "      <td>1462</td>\n",
       "      <td>Composting of paper and wood, incl. land appli...</td>\n",
       "      <td>CZ</td>\n",
       "      <td>process</td>\n",
       "      <td>ton</td>\n",
       "      <td>CZ-Composting of paper and wood, incl. land ap...</td>\n",
       "    </tr>\n",
       "    <tr>\n",
       "      <th>1</th>\n",
       "      <td>6202</td>\n",
       "      <td>Research and development</td>\n",
       "      <td>ES</td>\n",
       "      <td>process</td>\n",
       "      <td>Meuro</td>\n",
       "      <td>ES-Research and development (73)</td>\n",
       "    </tr>\n",
       "    <tr>\n",
       "      <th>2</th>\n",
       "      <td>2162</td>\n",
       "      <td>Mining of other non-ferrous metal ores and con...</td>\n",
       "      <td>DE</td>\n",
       "      <td>process</td>\n",
       "      <td>ton</td>\n",
       "      <td>DE-Mining of other non-ferrous metal ores and ...</td>\n",
       "    </tr>\n",
       "    <tr>\n",
       "      <th>3</th>\n",
       "      <td>5308</td>\n",
       "      <td>N-fertiliser</td>\n",
       "      <td>RU</td>\n",
       "      <td>process</td>\n",
       "      <td>ton</td>\n",
       "      <td>RU-N-fertiliser</td>\n",
       "    </tr>\n",
       "    <tr>\n",
       "      <th>4</th>\n",
       "      <td>328</td>\n",
       "      <td>Cultivation of paddy rice</td>\n",
       "      <td>BE</td>\n",
       "      <td>process</td>\n",
       "      <td>ton</td>\n",
       "      <td>BE-Cultivation of paddy rice</td>\n",
       "    </tr>\n",
       "  </tbody>\n",
       "</table>\n",
       "</div>"
      ],
      "text/plain": [
       "   activity                                               name location  \\\n",
       "0      1462  Composting of paper and wood, incl. land appli...       CZ   \n",
       "1      6202                           Research and development       ES   \n",
       "2      2162  Mining of other non-ferrous metal ores and con...       DE   \n",
       "3      5308                                       N-fertiliser       RU   \n",
       "4       328                          Cultivation of paddy rice       BE   \n",
       "\n",
       "      type   unit                                               code  \n",
       "0  process    ton  CZ-Composting of paper and wood, incl. land ap...  \n",
       "1  process  Meuro                   ES-Research and development (73)  \n",
       "2  process    ton  DE-Mining of other non-ferrous metal ores and ...  \n",
       "3  process    ton                                    RU-N-fertiliser  \n",
       "4  process    ton                       BE-Cultivation of paddy rice  "
      ]
     },
     "execution_count": 11,
     "metadata": {},
     "output_type": "execute_result"
    }
   ],
   "source": [
    "# make the information as a date frame\n",
    "act_dict['activity'] = act_id\n",
    "act_dict['name'] = act_name\n",
    "act_dict['location'] = act_loc\n",
    "act_dict['type'] = act_type\n",
    "act_dict['unit'] = act_unit\n",
    "act_dict['code'] = act_code\n",
    "df = pd.DataFrame(act_dict)\n",
    "df.head()"
   ]
  },
  {
   "cell_type": "code",
   "execution_count": 12,
   "metadata": {},
   "outputs": [],
   "source": [
    "df.to_csv('exiobase_info.csv')# save file"
   ]
  },
  {
   "cell_type": "code",
   "execution_count": 13,
   "metadata": {},
   "outputs": [
    {
     "data": {
      "text/plain": [
       "{'categories': ('soil', 'agricultural'),\n",
       " 'code': '91d68678-7ed7-417a-86a7-a486c7b8a973',\n",
       " 'name': 'Carfentrazone-ethyl',\n",
       " 'database': 'biosphere3',\n",
       " 'unit': 'kilogram',\n",
       " 'type': 'emission'}"
      ]
     },
     "execution_count": 13,
     "metadata": {},
     "output_type": "execute_result"
    }
   ],
   "source": [
    "bio = bw.Database('biosphere3')\n",
    "random_bio = bio.random()\n",
    "random_bio.as_dict()"
   ]
  },
  {
   "cell_type": "code",
   "execution_count": 14,
   "metadata": {},
   "outputs": [
    {
     "data": {
      "text/plain": [
       "58"
      ]
     },
     "execution_count": 14,
     "metadata": {},
     "output_type": "execute_result"
    }
   ],
   "source": [
    "# get reversed lca.biosphere_dict\n",
    "rev_bio_dict = {value:key for key, value in lca.biosphere_dict.items()}\n",
    "len(rev_bio_dict)"
   ]
  },
  {
   "cell_type": "code",
   "execution_count": 15,
   "metadata": {},
   "outputs": [
    {
     "data": {
      "text/plain": [
       "(58, 58, 58, 58, 58)"
      ]
     },
     "execution_count": 15,
     "metadata": {},
     "output_type": "execute_result"
    }
   ],
   "source": [
    "# get the information of bio flows\n",
    "bio_dict = {}\n",
    "bio_id = [] # a number from lca.biosphere_dict to represent the bio flow\n",
    "bio_category = []\n",
    "bio_name = []\n",
    "bio_unit = []\n",
    "bio_type = []\n",
    "for obj in bio:\n",
    "    for n in range(58):\n",
    "        if obj.key == rev_bio_dict[n]:\n",
    "            bio_id.append(n)\n",
    "            bio_name.append(obj['name'])\n",
    "            bio_category.append(obj['categories'])\n",
    "            bio_unit.append(obj['unit'])\n",
    "            bio_type.append(obj['type'])\n",
    "            break\n",
    "len(bio_id),len(bio_category),len(bio_name),len(bio_unit),len(bio_type) # check the number of each item"
   ]
  },
  {
   "cell_type": "code",
   "execution_count": 16,
   "metadata": {},
   "outputs": [
    {
     "data": {
      "text/html": [
       "<div>\n",
       "<style scoped>\n",
       "    .dataframe tbody tr th:only-of-type {\n",
       "        vertical-align: middle;\n",
       "    }\n",
       "\n",
       "    .dataframe tbody tr th {\n",
       "        vertical-align: top;\n",
       "    }\n",
       "\n",
       "    .dataframe thead th {\n",
       "        text-align: right;\n",
       "    }\n",
       "</style>\n",
       "<table border=\"1\" class=\"dataframe\">\n",
       "  <thead>\n",
       "    <tr style=\"text-align: right;\">\n",
       "      <th></th>\n",
       "      <th>bio_id</th>\n",
       "      <th>name</th>\n",
       "      <th>category</th>\n",
       "      <th>unit</th>\n",
       "      <th>type</th>\n",
       "    </tr>\n",
       "  </thead>\n",
       "  <tbody>\n",
       "    <tr>\n",
       "      <th>0</th>\n",
       "      <td>18</td>\n",
       "      <td>Carbon dioxide, non-fossil</td>\n",
       "      <td>(air,)</td>\n",
       "      <td>kilogram</td>\n",
       "      <td>emission</td>\n",
       "    </tr>\n",
       "    <tr>\n",
       "      <th>1</th>\n",
       "      <td>44</td>\n",
       "      <td>Zinc, in ground</td>\n",
       "      <td>(natural resource, in ground)</td>\n",
       "      <td>kilogram</td>\n",
       "      <td>natural resource</td>\n",
       "    </tr>\n",
       "    <tr>\n",
       "      <th>2</th>\n",
       "      <td>13</td>\n",
       "      <td>Sand, unspecified, in ground</td>\n",
       "      <td>(natural resource, in ground)</td>\n",
       "      <td>kilogram</td>\n",
       "      <td>natural resource</td>\n",
       "    </tr>\n",
       "    <tr>\n",
       "      <th>3</th>\n",
       "      <td>25</td>\n",
       "      <td>PAH, polycyclic aromatic hydrocarbons</td>\n",
       "      <td>(air,)</td>\n",
       "      <td>kilogram</td>\n",
       "      <td>emission</td>\n",
       "    </tr>\n",
       "    <tr>\n",
       "      <th>4</th>\n",
       "      <td>0</td>\n",
       "      <td>Aluminium, 24% in bauxite, 11% in crude ore, i...</td>\n",
       "      <td>(natural resource, in ground)</td>\n",
       "      <td>kilogram</td>\n",
       "      <td>natural resource</td>\n",
       "    </tr>\n",
       "  </tbody>\n",
       "</table>\n",
       "</div>"
      ],
      "text/plain": [
       "   bio_id                                               name  \\\n",
       "0      18                         Carbon dioxide, non-fossil   \n",
       "1      44                                    Zinc, in ground   \n",
       "2      13                       Sand, unspecified, in ground   \n",
       "3      25              PAH, polycyclic aromatic hydrocarbons   \n",
       "4       0  Aluminium, 24% in bauxite, 11% in crude ore, i...   \n",
       "\n",
       "                        category      unit              type  \n",
       "0                         (air,)  kilogram          emission  \n",
       "1  (natural resource, in ground)  kilogram  natural resource  \n",
       "2  (natural resource, in ground)  kilogram  natural resource  \n",
       "3                         (air,)  kilogram          emission  \n",
       "4  (natural resource, in ground)  kilogram  natural resource  "
      ]
     },
     "execution_count": 16,
     "metadata": {},
     "output_type": "execute_result"
    }
   ],
   "source": [
    "# make the info as a dataframe\n",
    "bio_dict['bio_id'] = bio_id\n",
    "bio_dict['name'] = bio_name\n",
    "bio_dict['category'] = bio_category\n",
    "bio_dict['unit'] = bio_unit\n",
    "bio_dict['type'] = bio_type\n",
    "df_bio = pd.DataFrame(bio_dict)\n",
    "df_bio.head()"
   ]
  },
  {
   "cell_type": "code",
   "execution_count": 17,
   "metadata": {},
   "outputs": [],
   "source": [
    "df_bio.to_csv('exiobase_bioflows_info.csv')#save the file"
   ]
  },
  {
   "cell_type": "code",
   "execution_count": 28,
   "metadata": {},
   "outputs": [],
   "source": [
    "vectors = {}"
   ]
  },
  {
   "cell_type": "code",
   "execution_count": 29,
   "metadata": {},
   "outputs": [
    {
     "name": "stderr",
     "output_type": "stream",
     "text": [
      "0% [##############################] 100% | ETA: 00:00:00\n",
      "Total time elapsed: 00:17:59\n"
     ]
    }
   ],
   "source": [
    "# get the lca.inventory scores for each bio flow of activities\n",
    "from pyprind import prog_bar\n",
    "for ds in prog_bar(eidb):\n",
    "    key = lca.activity_dict[ds.key]\n",
    "    lca.redo_lcia({ds: 1})\n",
    "    #vectors[key] = get_biosphere_vector(lca)\n",
    "    vectors[key] = np.ravel((lca.inventory).sum(axis=1))"
   ]
  },
  {
   "cell_type": "code",
   "execution_count": 31,
   "metadata": {},
   "outputs": [
    {
     "data": {
      "text/html": [
       "<div>\n",
       "<style scoped>\n",
       "    .dataframe tbody tr th:only-of-type {\n",
       "        vertical-align: middle;\n",
       "    }\n",
       "\n",
       "    .dataframe tbody tr th {\n",
       "        vertical-align: top;\n",
       "    }\n",
       "\n",
       "    .dataframe thead th {\n",
       "        text-align: right;\n",
       "    }\n",
       "</style>\n",
       "<table border=\"1\" class=\"dataframe\">\n",
       "  <thead>\n",
       "    <tr style=\"text-align: right;\">\n",
       "      <th></th>\n",
       "      <th>0</th>\n",
       "      <th>1</th>\n",
       "      <th>2</th>\n",
       "      <th>3</th>\n",
       "      <th>4</th>\n",
       "      <th>5</th>\n",
       "      <th>6</th>\n",
       "      <th>7</th>\n",
       "      <th>8</th>\n",
       "      <th>9</th>\n",
       "      <th>...</th>\n",
       "      <th>48</th>\n",
       "      <th>49</th>\n",
       "      <th>50</th>\n",
       "      <th>51</th>\n",
       "      <th>52</th>\n",
       "      <th>53</th>\n",
       "      <th>54</th>\n",
       "      <th>55</th>\n",
       "      <th>56</th>\n",
       "      <th>57</th>\n",
       "    </tr>\n",
       "  </thead>\n",
       "  <tbody>\n",
       "    <tr>\n",
       "      <th>1999</th>\n",
       "      <td>0.000184</td>\n",
       "      <td>0.004662</td>\n",
       "      <td>0.032859</td>\n",
       "      <td>0.005780</td>\n",
       "      <td>0.000330</td>\n",
       "      <td>0.108512</td>\n",
       "      <td>1.744283</td>\n",
       "      <td>0.000660</td>\n",
       "      <td>0.045615</td>\n",
       "      <td>0.053855</td>\n",
       "      <td>...</td>\n",
       "      <td>0.004624</td>\n",
       "      <td>0.004662</td>\n",
       "      <td>0.000007</td>\n",
       "      <td>0.000007</td>\n",
       "      <td>0.004010</td>\n",
       "      <td>1.150218e-09</td>\n",
       "      <td>0.000002</td>\n",
       "      <td>9.621835e-09</td>\n",
       "      <td>0.000041</td>\n",
       "      <td>8.978172e-07</td>\n",
       "    </tr>\n",
       "    <tr>\n",
       "      <th>572</th>\n",
       "      <td>1.383679</td>\n",
       "      <td>-0.260024</td>\n",
       "      <td>-33.362579</td>\n",
       "      <td>-2.966688</td>\n",
       "      <td>-0.839345</td>\n",
       "      <td>-157.809731</td>\n",
       "      <td>-1.179979</td>\n",
       "      <td>-1.678691</td>\n",
       "      <td>-3.508513</td>\n",
       "      <td>101.019461</td>\n",
       "      <td>...</td>\n",
       "      <td>-1.281058</td>\n",
       "      <td>-0.260024</td>\n",
       "      <td>-0.000535</td>\n",
       "      <td>-0.000535</td>\n",
       "      <td>23.469543</td>\n",
       "      <td>1.204124e-06</td>\n",
       "      <td>0.044275</td>\n",
       "      <td>1.708505e-05</td>\n",
       "      <td>-907.901303</td>\n",
       "      <td>7.504524e-03</td>\n",
       "    </tr>\n",
       "    <tr>\n",
       "      <th>7562</th>\n",
       "      <td>0.367302</td>\n",
       "      <td>0.031664</td>\n",
       "      <td>103.892944</td>\n",
       "      <td>21.123048</td>\n",
       "      <td>0.711423</td>\n",
       "      <td>256.885736</td>\n",
       "      <td>0.987476</td>\n",
       "      <td>1.422847</td>\n",
       "      <td>76.764317</td>\n",
       "      <td>149.188354</td>\n",
       "      <td>...</td>\n",
       "      <td>8.855054</td>\n",
       "      <td>0.031664</td>\n",
       "      <td>0.000151</td>\n",
       "      <td>0.000151</td>\n",
       "      <td>10.124644</td>\n",
       "      <td>2.725705e-06</td>\n",
       "      <td>0.005653</td>\n",
       "      <td>2.780822e-05</td>\n",
       "      <td>0.092272</td>\n",
       "      <td>6.158178e-04</td>\n",
       "    </tr>\n",
       "    <tr>\n",
       "      <th>2817</th>\n",
       "      <td>0.481988</td>\n",
       "      <td>0.148265</td>\n",
       "      <td>356.065851</td>\n",
       "      <td>37.134584</td>\n",
       "      <td>2.524170</td>\n",
       "      <td>71.966726</td>\n",
       "      <td>2.981640</td>\n",
       "      <td>5.048339</td>\n",
       "      <td>203.011663</td>\n",
       "      <td>96.310567</td>\n",
       "      <td>...</td>\n",
       "      <td>3.219319</td>\n",
       "      <td>0.148265</td>\n",
       "      <td>0.000437</td>\n",
       "      <td>0.000437</td>\n",
       "      <td>16.562970</td>\n",
       "      <td>1.948675e-06</td>\n",
       "      <td>0.005832</td>\n",
       "      <td>1.125220e-05</td>\n",
       "      <td>0.140924</td>\n",
       "      <td>5.235760e-04</td>\n",
       "    </tr>\n",
       "    <tr>\n",
       "      <th>4526</th>\n",
       "      <td>1.957198</td>\n",
       "      <td>0.776880</td>\n",
       "      <td>614.403005</td>\n",
       "      <td>78.025672</td>\n",
       "      <td>21.852799</td>\n",
       "      <td>1580.959955</td>\n",
       "      <td>181.022078</td>\n",
       "      <td>43.705598</td>\n",
       "      <td>3189.702273</td>\n",
       "      <td>896.535484</td>\n",
       "      <td>...</td>\n",
       "      <td>21.094571</td>\n",
       "      <td>0.776880</td>\n",
       "      <td>0.001578</td>\n",
       "      <td>0.001578</td>\n",
       "      <td>50.128792</td>\n",
       "      <td>8.205923e-06</td>\n",
       "      <td>0.039118</td>\n",
       "      <td>9.150129e-05</td>\n",
       "      <td>0.731665</td>\n",
       "      <td>6.769858e-03</td>\n",
       "    </tr>\n",
       "  </tbody>\n",
       "</table>\n",
       "<p>5 rows × 58 columns</p>\n",
       "</div>"
      ],
      "text/plain": [
       "            0         1           2          3          4            5   \\\n",
       "1999  0.000184  0.004662    0.032859   0.005780   0.000330     0.108512   \n",
       "572   1.383679 -0.260024  -33.362579  -2.966688  -0.839345  -157.809731   \n",
       "7562  0.367302  0.031664  103.892944  21.123048   0.711423   256.885736   \n",
       "2817  0.481988  0.148265  356.065851  37.134584   2.524170    71.966726   \n",
       "4526  1.957198  0.776880  614.403005  78.025672  21.852799  1580.959955   \n",
       "\n",
       "              6          7            8           9       ...              48  \\\n",
       "1999    1.744283   0.000660     0.045615    0.053855      ...        0.004624   \n",
       "572    -1.179979  -1.678691    -3.508513  101.019461      ...       -1.281058   \n",
       "7562    0.987476   1.422847    76.764317  149.188354      ...        8.855054   \n",
       "2817    2.981640   5.048339   203.011663   96.310567      ...        3.219319   \n",
       "4526  181.022078  43.705598  3189.702273  896.535484      ...       21.094571   \n",
       "\n",
       "            49        50        51         52            53        54  \\\n",
       "1999  0.004662  0.000007  0.000007   0.004010  1.150218e-09  0.000002   \n",
       "572  -0.260024 -0.000535 -0.000535  23.469543  1.204124e-06  0.044275   \n",
       "7562  0.031664  0.000151  0.000151  10.124644  2.725705e-06  0.005653   \n",
       "2817  0.148265  0.000437  0.000437  16.562970  1.948675e-06  0.005832   \n",
       "4526  0.776880  0.001578  0.001578  50.128792  8.205923e-06  0.039118   \n",
       "\n",
       "                55          56            57  \n",
       "1999  9.621835e-09    0.000041  8.978172e-07  \n",
       "572   1.708505e-05 -907.901303  7.504524e-03  \n",
       "7562  2.780822e-05    0.092272  6.158178e-04  \n",
       "2817  1.125220e-05    0.140924  5.235760e-04  \n",
       "4526  9.150129e-05    0.731665  6.769858e-03  \n",
       "\n",
       "[5 rows x 58 columns]"
      ]
     },
     "execution_count": 31,
     "metadata": {},
     "output_type": "execute_result"
    }
   ],
   "source": [
    "# make the stored scores as a dataframe\n",
    "df_data = pd.DataFrame(vectors)\n",
    "df_data = df_data.T\n",
    "df_data.head()"
   ]
  },
  {
   "cell_type": "code",
   "execution_count": 32,
   "metadata": {},
   "outputs": [],
   "source": [
    "df_data.to_csv('exiobase_inventory_scores.csv') # save the file"
   ]
  },
  {
   "cell_type": "code",
   "execution_count": null,
   "metadata": {},
   "outputs": [],
   "source": []
  }
 ],
 "metadata": {
  "kernelspec": {
   "display_name": "Python 3",
   "language": "python",
   "name": "python3"
  },
  "language_info": {
   "codemirror_mode": {
    "name": "ipython",
    "version": 3
   },
   "file_extension": ".py",
   "mimetype": "text/x-python",
   "name": "python",
   "nbconvert_exporter": "python",
   "pygments_lexer": "ipython3",
   "version": "3.7.1"
  }
 },
 "nbformat": 4,
 "nbformat_minor": 2
}
