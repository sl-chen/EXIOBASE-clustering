{
 "cells": [
  {
   "cell_type": "code",
   "execution_count": 1,
   "metadata": {},
   "outputs": [],
   "source": [
    "import brightway2 as bw\n",
    "import pandas as pd\n",
    "import numpy as np\n",
    "import matplotlib.pyplot as plt"
   ]
  },
  {
   "cell_type": "code",
   "execution_count": 2,
   "metadata": {},
   "outputs": [],
   "source": [
    "# should import EXIOBASE database before\n",
    "# and also set biosphere, LCIA methods\n",
    "bw.projects.set_current(\"EXIOBASE regionalized case study\")"
   ]
  },
  {
   "cell_type": "code",
   "execution_count": 3,
   "metadata": {},
   "outputs": [
    {
     "data": {
      "text/plain": [
       "Databases dictionary with 2 object(s):\n",
       "\tEXIOBASE 3.3.17 hybrid\n",
       "\tbiosphere3"
      ]
     },
     "execution_count": 3,
     "metadata": {},
     "output_type": "execute_result"
    }
   ],
   "source": [
    "bw.databases"
   ]
  },
  {
   "cell_type": "code",
   "execution_count": 4,
   "metadata": {},
   "outputs": [
    {
     "data": {
      "text/plain": [
       "850"
      ]
     },
     "execution_count": 4,
     "metadata": {},
     "output_type": "execute_result"
    }
   ],
   "source": [
    "len(bw.methods)"
   ]
  },
  {
   "cell_type": "code",
   "execution_count": 5,
   "metadata": {},
   "outputs": [
    {
     "data": {
      "text/plain": [
       "7872"
      ]
     },
     "execution_count": 5,
     "metadata": {},
     "output_type": "execute_result"
    }
   ],
   "source": [
    "eidb = bw.Database('EXIOBASE 3.3.17 hybrid')\n",
    "len(eidb)"
   ]
  },
  {
   "cell_type": "code",
   "execution_count": 11,
   "metadata": {},
   "outputs": [
    {
     "data": {
      "text/plain": [
       "[('ReCiPe Midpoint (H) V1.13 no LT', 'ozone depletion', 'ODPinf'),\n",
       " ('EDIP2003 w/o LT (obsolete)',\n",
       "  'non-renewable resources w/o LT',\n",
       "  'cadmium w/o LT'),\n",
       " ('ReCiPe Endpoint (I,A) (obsolete)', 'resources', 'total'),\n",
       " ('EDIP (obsolete)', 'resource consumption', 'non-renewable resources, iron'),\n",
       " ('CML 2001 (obsolete)', 'climate change', 'upper limit of net GWP'),\n",
       " ('ReCiPe Endpoint (E,A) w/o LT (obsolete)',\n",
       "  'human health w/o LT',\n",
       "  'human toxicity w/o LT'),\n",
       " ('ReCiPe Endpoint (E,A) (obsolete)',\n",
       "  'ecosystem quality',\n",
       "  'marine ecotoxicity'),\n",
       " ('cumulative exergy demand',\n",
       "  'solar',\n",
       "  'renewable energy resources, solar, converted'),\n",
       " ('CML 2001 w/o LT (obsolete)',\n",
       "  'marine aquatic ecotoxicity w/o LT',\n",
       "  'MAETP infinite w/o LT'),\n",
       " ('ReCiPe Endpoint (H,A) (obsolete)',\n",
       "  'human health',\n",
       "  'photochemical oxidant formation'),\n",
       " ('ecological scarcity 2013 no LT', 'heavy metals into water', 'total'),\n",
       " ('ReCiPe Endpoint (I,A) (obsolete)',\n",
       "  'human health',\n",
       "  'particulate matter formation'),\n",
       " ('ReCiPe Midpoint (E) w/o LT (obsolete)',\n",
       "  'freshwater eutrophication w/o LT',\n",
       "  'FEP w/o LT'),\n",
       " ('cumulative exergy demand',\n",
       "  'minerals',\n",
       "  'non-renewable material resources, minerals'),\n",
       " ('CML 2001 (obsolete)', 'malodours air', 'malodours air'),\n",
       " ('ReCiPe Midpoint (E) (obsolete)', 'ionising radiation', 'IRP_HE'),\n",
       " ('eco-indicator 99, (E,E) w/o LT (obsolete)',\n",
       "  'human health w/o LT',\n",
       "  'respiratory effects w/o LT'),\n",
       " ('eco-indicator 99, (H,A) w/o LT (obsolete)',\n",
       "  'ecosystem quality w/o LT',\n",
       "  'acidification & eutrophication w/o LT'),\n",
       " ('EPS 2000 (obsolete)', 'total', 'land occupation'),\n",
       " ('eco-indicator 99, (I,I) (obsolete)',\n",
       "  'ecosystem quality',\n",
       "  'land occupation')]"
      ]
     },
     "execution_count": 11,
     "metadata": {},
     "output_type": "execute_result"
    }
   ],
   "source": [
    "import random\n",
    "\n",
    "# randomly pick 20 methods from the bw.methods\n",
    "methods = random.sample(list(bw.methods), 20)\n",
    "methods"
   ]
  },
  {
   "cell_type": "code",
   "execution_count": 12,
   "metadata": {},
   "outputs": [
    {
     "data": {
      "text/plain": [
       "{'location': 'RO',\n",
       " 'name': 'Re-processing of secondary steel into new steel',\n",
       " 'code 1': 'i27.a.w',\n",
       " 'code 2': 'A_STEW',\n",
       " 'type': 'process',\n",
       " 'format': 'Exiobase 3.3.17 hybrid mrio_common_metadata tidy datapackage',\n",
       " 'key': ('EXIOBASE 3.3.17 hybrid',\n",
       "  'RO-Re-processing of secondary steel into new steel'),\n",
       " 'unit': 'ton',\n",
       " 'database': 'EXIOBASE 3.3.17 hybrid',\n",
       " 'code': 'RO-Re-processing of secondary steel into new steel'}"
      ]
     },
     "execution_count": 12,
     "metadata": {},
     "output_type": "execute_result"
    }
   ],
   "source": [
    "random_act = eidb.random()\n",
    "random_act.as_dict()"
   ]
  },
  {
   "cell_type": "code",
   "execution_count": 13,
   "metadata": {},
   "outputs": [
    {
     "data": {
      "text/plain": [
       "0.0"
      ]
     },
     "execution_count": 13,
     "metadata": {},
     "output_type": "execute_result"
    }
   ],
   "source": [
    "lca = bw.LCA({random_act:1}, methods[0])\n",
    "lca.lci()\n",
    "lca.lcia()\n",
    "lca.score"
   ]
  },
  {
   "cell_type": "code",
   "execution_count": 14,
   "metadata": {},
   "outputs": [
    {
     "data": {
      "text/plain": [
       "58"
      ]
     },
     "execution_count": 14,
     "metadata": {},
     "output_type": "execute_result"
    }
   ],
   "source": [
    "len(lca.biosphere_dict) # number of bio flows"
   ]
  },
  {
   "cell_type": "code",
   "execution_count": 15,
   "metadata": {},
   "outputs": [],
   "source": [
    "results_array = np.zeros((len(eidb), len(methods))) # to save the results"
   ]
  },
  {
   "cell_type": "code",
   "execution_count": 16,
   "metadata": {},
   "outputs": [],
   "source": [
    "method_matrices = []\n",
    "\n",
    "for m in methods:\n",
    "    lca.switch_method(m)\n",
    "    method_matrices.append(lca.characterization_matrix.copy())"
   ]
  },
  {
   "cell_type": "code",
   "execution_count": 19,
   "metadata": {},
   "outputs": [
    {
     "name": "stderr",
     "output_type": "stream",
     "text": [
      "0% [##############################] 100% | ETA: 00:00:00\n",
      "Total time elapsed: 00:19:56\n"
     ]
    }
   ],
   "source": [
    "import pyprind\n",
    "\n",
    "for i, ds in enumerate(pyprind.prog_bar(eidb)):\n",
    "    lca.redo_lci({ds: 1})\n",
    "    for j, method in enumerate(methods):\n",
    "        vector = np.ravel((method_matrices[j] * lca.inventory).sum(axis=1))\n",
    "        if not vector.sum():\n",
    "            continue\n",
    "        results_array[i, j] = vector.sum()"
   ]
  },
  {
   "cell_type": "code",
   "execution_count": 1,
   "metadata": {},
   "outputs": [],
   "source": [
    "# also tried to just use lca.score but didn't work as there were a lot of zero values\n",
    "# for i, ds in enumerate(pyprind.prog_bar(eidb)):\n",
    "#    lca.redo_lci({ds: 1})\n",
    "#    for j, method in enumerate(methods):\n",
    "#        if not lca.score:\n",
    "#            continue\n",
    "#        results_array[i, j] = lca.score"
   ]
  },
  {
   "cell_type": "code",
   "execution_count": 29,
   "metadata": {},
   "outputs": [
    {
     "data": {
      "text/plain": [
       "(7872, 7872, 7872, 7872, 7872, 7872)"
      ]
     },
     "execution_count": 29,
     "metadata": {},
     "output_type": "execute_result"
    }
   ],
   "source": [
    "# get the information of all activities like name, location\n",
    "act_dict = {}\n",
    "act_id = [] # activity id is the number from the lca.activity_dict, to represent the activity\n",
    "act_name = []\n",
    "act_loc = []\n",
    "act_type = []\n",
    "act_unit = []\n",
    "act_code = []\n",
    "for obj in eidb:\n",
    "    act_id.append(lca.activity_dict[obj['key']])\n",
    "    act_name.append(obj['name'])\n",
    "    act_loc.append(obj['location'])\n",
    "    act_type.append(obj['type'])\n",
    "    act_unit.append(obj['unit'])\n",
    "    act_code.append(obj['code'])\n",
    "len(act_id),len(act_name),len(act_loc),len(act_type),len(act_unit),len(act_code) # check the number of each item"
   ]
  },
  {
   "cell_type": "code",
   "execution_count": 30,
   "metadata": {},
   "outputs": [
    {
     "data": {
      "text/html": [
       "<div>\n",
       "<style scoped>\n",
       "    .dataframe tbody tr th:only-of-type {\n",
       "        vertical-align: middle;\n",
       "    }\n",
       "\n",
       "    .dataframe tbody tr th {\n",
       "        vertical-align: top;\n",
       "    }\n",
       "\n",
       "    .dataframe thead th {\n",
       "        text-align: right;\n",
       "    }\n",
       "</style>\n",
       "<table border=\"1\" class=\"dataframe\">\n",
       "  <thead>\n",
       "    <tr style=\"text-align: right;\">\n",
       "      <th></th>\n",
       "      <th>activity</th>\n",
       "      <th>name</th>\n",
       "      <th>location</th>\n",
       "      <th>type</th>\n",
       "      <th>unit</th>\n",
       "      <th>code</th>\n",
       "    </tr>\n",
       "  </thead>\n",
       "  <tbody>\n",
       "    <tr>\n",
       "      <th>0</th>\n",
       "      <td>522</td>\n",
       "      <td>Mining of other non-ferrous metal ores and con...</td>\n",
       "      <td>BR</td>\n",
       "      <td>process</td>\n",
       "      <td>ton</td>\n",
       "      <td>BR-Mining of other non-ferrous metal ores and ...</td>\n",
       "    </tr>\n",
       "    <tr>\n",
       "      <th>1</th>\n",
       "      <td>3936</td>\n",
       "      <td>Cultivation of paddy rice</td>\n",
       "      <td>LU</td>\n",
       "      <td>process</td>\n",
       "      <td>ton</td>\n",
       "      <td>LU-Cultivation of paddy rice</td>\n",
       "    </tr>\n",
       "    <tr>\n",
       "      <th>2</th>\n",
       "      <td>1143</td>\n",
       "      <td>Activities of membership organisation n.e.c.</td>\n",
       "      <td>CN</td>\n",
       "      <td>process</td>\n",
       "      <td>Meuro</td>\n",
       "      <td>CN-Activities of membership organisation n.e.c...</td>\n",
       "    </tr>\n",
       "    <tr>\n",
       "      <th>3</th>\n",
       "      <td>3666</td>\n",
       "      <td>Plastics, basic</td>\n",
       "      <td>LV</td>\n",
       "      <td>process</td>\n",
       "      <td>ton</td>\n",
       "      <td>LV-Plastics, basic</td>\n",
       "    </tr>\n",
       "    <tr>\n",
       "      <th>4</th>\n",
       "      <td>4956</td>\n",
       "      <td>Processing of meat poultry</td>\n",
       "      <td>PT</td>\n",
       "      <td>process</td>\n",
       "      <td>ton</td>\n",
       "      <td>PT-Processing of meat poultry</td>\n",
       "    </tr>\n",
       "  </tbody>\n",
       "</table>\n",
       "</div>"
      ],
      "text/plain": [
       "   activity                                               name location  \\\n",
       "0       522  Mining of other non-ferrous metal ores and con...       BR   \n",
       "1      3936                          Cultivation of paddy rice       LU   \n",
       "2      1143       Activities of membership organisation n.e.c.       CN   \n",
       "3      3666                                    Plastics, basic       LV   \n",
       "4      4956                         Processing of meat poultry       PT   \n",
       "\n",
       "      type   unit                                               code  \n",
       "0  process    ton  BR-Mining of other non-ferrous metal ores and ...  \n",
       "1  process    ton                       LU-Cultivation of paddy rice  \n",
       "2  process  Meuro  CN-Activities of membership organisation n.e.c...  \n",
       "3  process    ton                                 LV-Plastics, basic  \n",
       "4  process    ton                      PT-Processing of meat poultry  "
      ]
     },
     "execution_count": 30,
     "metadata": {},
     "output_type": "execute_result"
    }
   ],
   "source": [
    "# make the information as a date frame\n",
    "act_dict['activity'] = act_id\n",
    "act_dict['name'] = act_name\n",
    "act_dict['location'] = act_loc\n",
    "act_dict['type'] = act_type\n",
    "act_dict['unit'] = act_unit\n",
    "act_dict['code'] = act_code\n",
    "df = pd.DataFrame(act_dict)\n",
    "df.head()"
   ]
  },
  {
   "cell_type": "code",
   "execution_count": 31,
   "metadata": {},
   "outputs": [],
   "source": [
    "df.to_csv('exiobase_info_lcia.csv')# save file"
   ]
  },
  {
   "cell_type": "code",
   "execution_count": 32,
   "metadata": {},
   "outputs": [
    {
     "data": {
      "text/plain": [
       "{'categories': ('natural resource', 'land'),\n",
       " 'code': '9197fa8a-1f9a-427b-91d3-113260ae6eb1',\n",
       " 'name': 'Transformation, to seabed, natural (non-use)',\n",
       " 'database': 'biosphere3',\n",
       " 'unit': 'square meter',\n",
       " 'type': 'natural resource'}"
      ]
     },
     "execution_count": 32,
     "metadata": {},
     "output_type": "execute_result"
    }
   ],
   "source": [
    "bio = bw.Database('biosphere3')\n",
    "random_bio = bio.random()\n",
    "random_bio.as_dict()"
   ]
  },
  {
   "cell_type": "code",
   "execution_count": 33,
   "metadata": {},
   "outputs": [
    {
     "data": {
      "text/plain": [
       "58"
      ]
     },
     "execution_count": 33,
     "metadata": {},
     "output_type": "execute_result"
    }
   ],
   "source": [
    "# get reversed lca.biosphere_dict\n",
    "rev_bio_dict = {value:key for key, value in lca.biosphere_dict.items()}\n",
    "len(rev_bio_dict)"
   ]
  },
  {
   "cell_type": "code",
   "execution_count": 34,
   "metadata": {},
   "outputs": [
    {
     "data": {
      "text/plain": [
       "(58, 58, 58, 58, 58)"
      ]
     },
     "execution_count": 34,
     "metadata": {},
     "output_type": "execute_result"
    }
   ],
   "source": [
    "# get the information of bio flows\n",
    "bio_dict = {}\n",
    "bio_id = [] # a number from lca.biosphere_dict to represent the bio flow\n",
    "bio_category = []\n",
    "bio_name = []\n",
    "bio_unit = []\n",
    "bio_type = []\n",
    "for obj in bio:\n",
    "    for n in range(58):\n",
    "        if obj.key == rev_bio_dict[n]:\n",
    "            bio_id.append(n)\n",
    "            bio_name.append(obj['name'])\n",
    "            bio_category.append(obj['categories'])\n",
    "            bio_unit.append(obj['unit'])\n",
    "            bio_type.append(obj['type'])\n",
    "            break\n",
    "len(bio_id),len(bio_category),len(bio_name),len(bio_unit),len(bio_type) # check the number of each item"
   ]
  },
  {
   "cell_type": "code",
   "execution_count": 35,
   "metadata": {},
   "outputs": [
    {
     "data": {
      "text/html": [
       "<div>\n",
       "<style scoped>\n",
       "    .dataframe tbody tr th:only-of-type {\n",
       "        vertical-align: middle;\n",
       "    }\n",
       "\n",
       "    .dataframe tbody tr th {\n",
       "        vertical-align: top;\n",
       "    }\n",
       "\n",
       "    .dataframe thead th {\n",
       "        text-align: right;\n",
       "    }\n",
       "</style>\n",
       "<table border=\"1\" class=\"dataframe\">\n",
       "  <thead>\n",
       "    <tr style=\"text-align: right;\">\n",
       "      <th></th>\n",
       "      <th>bio_id</th>\n",
       "      <th>name</th>\n",
       "      <th>category</th>\n",
       "      <th>unit</th>\n",
       "      <th>type</th>\n",
       "    </tr>\n",
       "  </thead>\n",
       "  <tbody>\n",
       "    <tr>\n",
       "      <th>0</th>\n",
       "      <td>48</td>\n",
       "      <td>Phosphorus, in ground</td>\n",
       "      <td>(natural resource, in ground)</td>\n",
       "      <td>kilogram</td>\n",
       "      <td>natural resource</td>\n",
       "    </tr>\n",
       "    <tr>\n",
       "      <th>1</th>\n",
       "      <td>3</td>\n",
       "      <td>Coal, hard, unspecified, in ground</td>\n",
       "      <td>(natural resource, in ground)</td>\n",
       "      <td>kilogram</td>\n",
       "      <td>natural resource</td>\n",
       "    </tr>\n",
       "    <tr>\n",
       "      <th>2</th>\n",
       "      <td>8</td>\n",
       "      <td>Occupation, arable land, unspecified use</td>\n",
       "      <td>(natural resource, land)</td>\n",
       "      <td>square meter-year</td>\n",
       "      <td>natural resource</td>\n",
       "    </tr>\n",
       "    <tr>\n",
       "      <th>3</th>\n",
       "      <td>51</td>\n",
       "      <td>Uranium, in ground</td>\n",
       "      <td>(natural resource, in ground)</td>\n",
       "      <td>kilogram</td>\n",
       "      <td>natural resource</td>\n",
       "    </tr>\n",
       "    <tr>\n",
       "      <th>4</th>\n",
       "      <td>45</td>\n",
       "      <td>Lead, in ground</td>\n",
       "      <td>(natural resource, in ground)</td>\n",
       "      <td>kilogram</td>\n",
       "      <td>natural resource</td>\n",
       "    </tr>\n",
       "  </tbody>\n",
       "</table>\n",
       "</div>"
      ],
      "text/plain": [
       "   bio_id                                      name  \\\n",
       "0      48                     Phosphorus, in ground   \n",
       "1       3        Coal, hard, unspecified, in ground   \n",
       "2       8  Occupation, arable land, unspecified use   \n",
       "3      51                        Uranium, in ground   \n",
       "4      45                           Lead, in ground   \n",
       "\n",
       "                        category               unit              type  \n",
       "0  (natural resource, in ground)           kilogram  natural resource  \n",
       "1  (natural resource, in ground)           kilogram  natural resource  \n",
       "2       (natural resource, land)  square meter-year  natural resource  \n",
       "3  (natural resource, in ground)           kilogram  natural resource  \n",
       "4  (natural resource, in ground)           kilogram  natural resource  "
      ]
     },
     "execution_count": 35,
     "metadata": {},
     "output_type": "execute_result"
    }
   ],
   "source": [
    "# make the info as a dataframe\n",
    "bio_dict['bio_id'] = bio_id\n",
    "bio_dict['name'] = bio_name\n",
    "bio_dict['category'] = bio_category\n",
    "bio_dict['unit'] = bio_unit\n",
    "bio_dict['type'] = bio_type\n",
    "df_bio = pd.DataFrame(bio_dict)\n",
    "df_bio.head()"
   ]
  },
  {
   "cell_type": "code",
   "execution_count": 36,
   "metadata": {},
   "outputs": [],
   "source": [
    "df_bio.to_csv('exiobase_bioflows_info_lcia.csv')#save the file"
   ]
  },
  {
   "cell_type": "code",
   "execution_count": 37,
   "metadata": {},
   "outputs": [],
   "source": [
    "vectors = {}"
   ]
  },
  {
   "cell_type": "code",
   "execution_count": 39,
   "metadata": {},
   "outputs": [
    {
     "name": "stderr",
     "output_type": "stream",
     "text": [
      "0% [##############################] 100% | ETA: 00:00:00\n",
      "Total time elapsed: 00:00:00\n"
     ]
    }
   ],
   "source": [
    "# get the lca.inventory scores for each bio flow of activities\n",
    "from pyprind import prog_bar\n",
    "n = 0\n",
    "for ds in prog_bar(eidb):\n",
    "    key = lca.activity_dict[ds.key]\n",
    "    vectors[key] = results_array[n]\n",
    "    n = n+1"
   ]
  },
  {
   "cell_type": "code",
   "execution_count": 40,
   "metadata": {},
   "outputs": [
    {
     "data": {
      "text/html": [
       "<div>\n",
       "<style scoped>\n",
       "    .dataframe tbody tr th:only-of-type {\n",
       "        vertical-align: middle;\n",
       "    }\n",
       "\n",
       "    .dataframe tbody tr th {\n",
       "        vertical-align: top;\n",
       "    }\n",
       "\n",
       "    .dataframe thead th {\n",
       "        text-align: right;\n",
       "    }\n",
       "</style>\n",
       "<table border=\"1\" class=\"dataframe\">\n",
       "  <thead>\n",
       "    <tr style=\"text-align: right;\">\n",
       "      <th></th>\n",
       "      <th>0</th>\n",
       "      <th>1</th>\n",
       "      <th>2</th>\n",
       "      <th>3</th>\n",
       "      <th>4</th>\n",
       "      <th>5</th>\n",
       "      <th>6</th>\n",
       "      <th>7</th>\n",
       "      <th>8</th>\n",
       "      <th>9</th>\n",
       "      <th>10</th>\n",
       "      <th>11</th>\n",
       "      <th>12</th>\n",
       "      <th>13</th>\n",
       "      <th>14</th>\n",
       "      <th>15</th>\n",
       "      <th>16</th>\n",
       "      <th>17</th>\n",
       "      <th>18</th>\n",
       "      <th>19</th>\n",
       "    </tr>\n",
       "  </thead>\n",
       "  <tbody>\n",
       "    <tr>\n",
       "      <th>3134</th>\n",
       "      <td>0.0</td>\n",
       "      <td>0.0</td>\n",
       "      <td>11201.326492</td>\n",
       "      <td>12883.777118</td>\n",
       "      <td>255829.178178</td>\n",
       "      <td>1757.368486</td>\n",
       "      <td>8.888608</td>\n",
       "      <td>0.0</td>\n",
       "      <td>456042.371358</td>\n",
       "      <td>7.124922</td>\n",
       "      <td>0.0</td>\n",
       "      <td>1783.370208</td>\n",
       "      <td>12.994451</td>\n",
       "      <td>21048.056235</td>\n",
       "      <td>2.222093e+07</td>\n",
       "      <td>0.0</td>\n",
       "      <td>3617.065065</td>\n",
       "      <td>347.679984</td>\n",
       "      <td>29.461488</td>\n",
       "      <td>564.839510</td>\n",
       "    </tr>\n",
       "    <tr>\n",
       "      <th>5011</th>\n",
       "      <td>0.0</td>\n",
       "      <td>0.0</td>\n",
       "      <td>141.389312</td>\n",
       "      <td>5.093702</td>\n",
       "      <td>599.315514</td>\n",
       "      <td>1.248135</td>\n",
       "      <td>0.006260</td>\n",
       "      <td>0.0</td>\n",
       "      <td>328.709211</td>\n",
       "      <td>0.004594</td>\n",
       "      <td>0.0</td>\n",
       "      <td>2.336660</td>\n",
       "      <td>0.014760</td>\n",
       "      <td>112.249001</td>\n",
       "      <td>2.355901e+04</td>\n",
       "      <td>0.0</td>\n",
       "      <td>4.561716</td>\n",
       "      <td>0.398248</td>\n",
       "      <td>0.010772</td>\n",
       "      <td>0.168818</td>\n",
       "    </tr>\n",
       "    <tr>\n",
       "      <th>2309</th>\n",
       "      <td>0.0</td>\n",
       "      <td>0.0</td>\n",
       "      <td>0.000000</td>\n",
       "      <td>0.000000</td>\n",
       "      <td>0.000000</td>\n",
       "      <td>0.000000</td>\n",
       "      <td>0.000000</td>\n",
       "      <td>0.0</td>\n",
       "      <td>0.000000</td>\n",
       "      <td>0.000000</td>\n",
       "      <td>0.0</td>\n",
       "      <td>0.000000</td>\n",
       "      <td>0.000000</td>\n",
       "      <td>0.000000</td>\n",
       "      <td>0.000000e+00</td>\n",
       "      <td>0.0</td>\n",
       "      <td>0.000000</td>\n",
       "      <td>0.000000</td>\n",
       "      <td>0.000000</td>\n",
       "      <td>0.000000</td>\n",
       "    </tr>\n",
       "    <tr>\n",
       "      <th>1754</th>\n",
       "      <td>0.0</td>\n",
       "      <td>0.0</td>\n",
       "      <td>268.072880</td>\n",
       "      <td>37.382050</td>\n",
       "      <td>6428.640210</td>\n",
       "      <td>7.854999</td>\n",
       "      <td>0.070190</td>\n",
       "      <td>0.0</td>\n",
       "      <td>3121.043304</td>\n",
       "      <td>0.881202</td>\n",
       "      <td>0.0</td>\n",
       "      <td>19.762819</td>\n",
       "      <td>0.041784</td>\n",
       "      <td>94.142458</td>\n",
       "      <td>1.339083e+05</td>\n",
       "      <td>0.0</td>\n",
       "      <td>64.562019</td>\n",
       "      <td>4.765737</td>\n",
       "      <td>0.167417</td>\n",
       "      <td>2.421799</td>\n",
       "    </tr>\n",
       "    <tr>\n",
       "      <th>7229</th>\n",
       "      <td>0.0</td>\n",
       "      <td>0.0</td>\n",
       "      <td>-38.662620</td>\n",
       "      <td>0.483713</td>\n",
       "      <td>1738.408632</td>\n",
       "      <td>0.327966</td>\n",
       "      <td>0.031941</td>\n",
       "      <td>0.0</td>\n",
       "      <td>698.350954</td>\n",
       "      <td>0.005954</td>\n",
       "      <td>0.0</td>\n",
       "      <td>8.437970</td>\n",
       "      <td>0.001601</td>\n",
       "      <td>8.777430</td>\n",
       "      <td>1.689036e+04</td>\n",
       "      <td>0.0</td>\n",
       "      <td>13.617743</td>\n",
       "      <td>3.321126</td>\n",
       "      <td>-0.001926</td>\n",
       "      <td>-3.406599</td>\n",
       "    </tr>\n",
       "  </tbody>\n",
       "</table>\n",
       "</div>"
      ],
      "text/plain": [
       "        0    1             2             3              4            5  \\\n",
       "3134  0.0  0.0  11201.326492  12883.777118  255829.178178  1757.368486   \n",
       "5011  0.0  0.0    141.389312      5.093702     599.315514     1.248135   \n",
       "2309  0.0  0.0      0.000000      0.000000       0.000000     0.000000   \n",
       "1754  0.0  0.0    268.072880     37.382050    6428.640210     7.854999   \n",
       "7229  0.0  0.0    -38.662620      0.483713    1738.408632     0.327966   \n",
       "\n",
       "             6    7              8         9   10           11         12  \\\n",
       "3134  8.888608  0.0  456042.371358  7.124922  0.0  1783.370208  12.994451   \n",
       "5011  0.006260  0.0     328.709211  0.004594  0.0     2.336660   0.014760   \n",
       "2309  0.000000  0.0       0.000000  0.000000  0.0     0.000000   0.000000   \n",
       "1754  0.070190  0.0    3121.043304  0.881202  0.0    19.762819   0.041784   \n",
       "7229  0.031941  0.0     698.350954  0.005954  0.0     8.437970   0.001601   \n",
       "\n",
       "                13            14   15           16          17         18  \\\n",
       "3134  21048.056235  2.222093e+07  0.0  3617.065065  347.679984  29.461488   \n",
       "5011    112.249001  2.355901e+04  0.0     4.561716    0.398248   0.010772   \n",
       "2309      0.000000  0.000000e+00  0.0     0.000000    0.000000   0.000000   \n",
       "1754     94.142458  1.339083e+05  0.0    64.562019    4.765737   0.167417   \n",
       "7229      8.777430  1.689036e+04  0.0    13.617743    3.321126  -0.001926   \n",
       "\n",
       "              19  \n",
       "3134  564.839510  \n",
       "5011    0.168818  \n",
       "2309    0.000000  \n",
       "1754    2.421799  \n",
       "7229   -3.406599  "
      ]
     },
     "execution_count": 40,
     "metadata": {},
     "output_type": "execute_result"
    }
   ],
   "source": [
    "# make the stored scores as a dataframe\n",
    "df_data = pd.DataFrame(vectors)\n",
    "df_data = df_data.T\n",
    "df_data.head()"
   ]
  },
  {
   "cell_type": "code",
   "execution_count": 41,
   "metadata": {},
   "outputs": [],
   "source": [
    "df_data.to_csv('exiobase_lica_scores.csv') # save the file"
   ]
  },
  {
   "cell_type": "code",
   "execution_count": null,
   "metadata": {},
   "outputs": [],
   "source": []
  }
 ],
 "metadata": {
  "kernelspec": {
   "display_name": "Python 3",
   "language": "python",
   "name": "python3"
  },
  "language_info": {
   "codemirror_mode": {
    "name": "ipython",
    "version": 3
   },
   "file_extension": ".py",
   "mimetype": "text/x-python",
   "name": "python",
   "nbconvert_exporter": "python",
   "pygments_lexer": "ipython3",
   "version": "3.7.1"
  }
 },
 "nbformat": 4,
 "nbformat_minor": 2
}
